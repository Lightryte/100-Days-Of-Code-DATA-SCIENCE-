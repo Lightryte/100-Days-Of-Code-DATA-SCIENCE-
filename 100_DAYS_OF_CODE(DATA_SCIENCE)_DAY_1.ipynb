{
  "nbformat": 4,
  "nbformat_minor": 0,
  "metadata": {
    "colab": {
      "provenance": []
    },
    "kernelspec": {
      "name": "python3",
      "display_name": "Python 3"
    },
    "language_info": {
      "name": "python"
    }
  },
  "cells": [
    {
      "cell_type": "code",
      "execution_count": null,
      "metadata": {
        "colab": {
          "base_uri": "https://localhost:8080/"
        },
        "id": "R_-UaizvkVKQ",
        "outputId": "f94d9ef4-3a94-4743-f73f-5f960596fe2a"
      },
      "outputs": [
        {
          "output_type": "stream",
          "name": "stdout",
          "text": [
            "i is greater than 10\n"
          ]
        }
      ],
      "source": [
        "from __future__ import print_function\n",
        "# if statement\n",
        "i = 15\n",
        "if i>10:\n",
        "       print('i is greater than 10')"
      ]
    },
    {
      "cell_type": "code",
      "source": [
        "i = 15\n",
        "if i<10:\n",
        "       print('i is less than 10')\n",
        "else:\n",
        "       print('i is greater than 10')"
      ],
      "metadata": {
        "colab": {
          "base_uri": "https://localhost:8080/"
        },
        "id": "q6xnGHaNz0zK",
        "outputId": "6b88cedc-f4cc-407c-fc3b-79f553fc879a"
      },
      "execution_count": null,
      "outputs": [
        {
          "output_type": "stream",
          "name": "stdout",
          "text": [
            "i is greater than 10\n"
          ]
        }
      ]
    },
    {
      "cell_type": "code",
      "source": [
        "i = 15\n",
        "if i==10:\n",
        "       print('i is equal to 10')\n",
        "elif i<15:\n",
        "       print('i is less than 15')\n",
        "else:\n",
        "       print('i is greater than 15')\n"
      ],
      "metadata": {
        "colab": {
          "base_uri": "https://localhost:8080/"
        },
        "id": "3Jd9e4iy1Ilk",
        "outputId": "72a36753-87f0-4fec-b3ce-b057aeecefa5"
      },
      "execution_count": null,
      "outputs": [
        {
          "output_type": "stream",
          "name": "stdout",
          "text": [
            "i is greater than 15\n"
          ]
        }
      ]
    },
    {
      "cell_type": "code",
      "source": [
        "x = 5\n",
        "y = 10\n",
        "if x > y:\n",
        "       print('x is greater than y')\n",
        "else:\n",
        "       print('x is not greater than y')"
      ],
      "metadata": {
        "colab": {
          "base_uri": "https://localhost:8080/"
        },
        "id": "Rf3a3SLA2oLR",
        "outputId": "a7f0737a-7fba-42a8-fbbe-56c8cb8d1928"
      },
      "execution_count": null,
      "outputs": [
        {
          "output_type": "stream",
          "name": "stdout",
          "text": [
            "x is not greater than y\n"
          ]
        }
      ]
    },
    {
      "cell_type": "code",
      "source": [
        "x = [1, 2, 3, 4, 5]\n",
        "y = [6, 7, 8, 9, 10]\n",
        "if x > y:\n",
        "       print('x is greater than y')\n",
        "else:\n",
        "       print('x is not greater than y')"
      ],
      "metadata": {
        "colab": {
          "base_uri": "https://localhost:8080/"
        },
        "id": "uZNGYH0W3SJV",
        "outputId": "c1e8a967-4953-4abf-8645-5ea34735bd6b"
      },
      "execution_count": null,
      "outputs": [
        {
          "output_type": "stream",
          "name": "stdout",
          "text": [
            "x is not greater than y\n"
          ]
        }
      ]
    },
    {
      "cell_type": "code",
      "source": [
        "x = [1, 2, 3, 4, 5,]\n",
        "y = [6, 7, 8, 9, 10]\n",
        "z = x + y\n",
        "print(z)"
      ],
      "metadata": {
        "colab": {
          "base_uri": "https://localhost:8080/"
        },
        "id": "NsqjPxrb8XDl",
        "outputId": "d6aad4ac-4462-4941-b64d-8e9346fe2b0e"
      },
      "execution_count": null,
      "outputs": [
        {
          "output_type": "stream",
          "name": "stdout",
          "text": [
            "[1, 2, 3, 4, 5, 6, 7, 8, 9, 10]\n"
          ]
        }
      ]
    },
    {
      "cell_type": "code",
      "source": [
        "marks = int(input('Enter your marks: '))\n",
        "if marks >=70:\n",
        "       print('Grade ',\"A\")\n",
        "elif marks >=60:\n",
        "       print('Grade ',\"B\")\n",
        "elif marks >=50:\n",
        "       print('Grade ',\"C\")\n",
        "elif marks >=40:\n",
        "       print('Grade ',\"D\")\n",
        "else:\n",
        "       print('Grade ',\"F\")"
      ],
      "metadata": {
        "id": "0nb6OsqN9Bm2"
      },
      "execution_count": null,
      "outputs": []
    },
    {
      "cell_type": "code",
      "source": [
        "europe = {'spain':'madrid', 'france':'paris', 'germany':'berlin', 'norway':'oslo' }\n",
        "print(europe['france'])"
      ],
      "metadata": {
        "id": "qGtjDptZMJ_J",
        "colab": {
          "base_uri": "https://localhost:8080/"
        },
        "outputId": "c4edb5f6-eb45-4757-d07b-a7679743f8f7"
      },
      "execution_count": 4,
      "outputs": [
        {
          "output_type": "stream",
          "name": "stdout",
          "text": [
            "paris\n"
          ]
        }
      ]
    },
    {
      "cell_type": "code",
      "source": [],
      "metadata": {
        "id": "-VDEPQ39-Ec6"
      },
      "execution_count": null,
      "outputs": []
    }
  ]
}